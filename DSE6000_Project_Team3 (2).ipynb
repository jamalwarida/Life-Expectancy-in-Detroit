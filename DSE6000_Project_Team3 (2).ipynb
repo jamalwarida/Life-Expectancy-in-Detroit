{
  "nbformat": 4,
  "nbformat_minor": 0,
  "metadata": {
    "colab": {
      "name": "DSE6000_Project_Team3.ipynb",
      "provenance": [],
      "collapsed_sections": []
    },
    "kernelspec": {
      "name": "python3",
      "display_name": "Python 3"
    }
  },
  "cells": [
    {
      "cell_type": "markdown",
      "metadata": {
        "id": "1_TXdvebExHx",
        "colab_type": "text"
      },
      "source": [
        "# **Team 3 EDA Final Project - DSE6000**"
      ]
    },
    {
      "cell_type": "markdown",
      "metadata": {
        "id": "ddgMuJ1tE_zW",
        "colab_type": "text"
      },
      "source": [
        "The following project outlines our team's analysis on life expectancy and the factors that affect it in Detroit, MI.\n",
        "\n",
        "Team 3 Group Members:\n",
        "\n",
        "\n",
        "*  Jamal Warida (fp6903)\n",
        "*  Jatin Gongiwala (go7984)\n",
        "*  Praveen Kumar Kumar (gp6834)\n",
        "\n",
        "\n"
      ]
    },
    {
      "cell_type": "markdown",
      "metadata": {
        "id": "S1BlzqUlGgCy",
        "colab_type": "text"
      },
      "source": [
        "**Importing Packages:**"
      ]
    },
    {
      "cell_type": "code",
      "metadata": {
        "id": "v6D7O0T7Gnft",
        "colab_type": "code",
        "colab": {}
      },
      "source": [
        "import pandas as pd\n",
        "%matplotlib inline\n",
        "import matplotlib.pyplot as plt\n",
        "import seaborn as sns\n",
        "import numpy as np\n",
        "from subprocess import check_output\n",
        "from sklearn.linear_model import LinearRegression\n",
        "from sklearn.preprocessing import StandardScaler\n",
        "from sklearn.model_selection import train_test_split\n",
        "%matplotlib inline"
      ],
      "execution_count": 0,
      "outputs": []
    },
    {
      "cell_type": "markdown",
      "metadata": {
        "id": "mEXLpVUzHpZ0",
        "colab_type": "text"
      },
      "source": [
        "**Importing All Datasets From Google Cloud:**"
      ]
    },
    {
      "cell_type": "code",
      "metadata": {
        "id": "uyDmFR7RHueS",
        "colab_type": "code",
        "colab": {}
      },
      "source": [
        "age=pd.read_excel(\"https://storage.googleapis.com/dsefiles/Wayne_County_Life_Expectancy_by_Zipcode.csv\")\n",
        "hosp=pd.read_excel(\"https://storage.googleapis.com/dsefiles/Hospitals%20(1).csv\")\n",
        "muap=pd.read_csv(\"https://storage.googleapis.com/dsefiles/Detroit_MUAP.csv\")\n",
        "brfss=pd.read_csv(\"https://storage.googleapis.com/dsefiles/Nutrition__Physical_Activity__and_Obesity_-_Behavioral_Risk_Factor_Surveillance_System.csv\")\n"
      ],
      "execution_count": 0,
      "outputs": []
    },
    {
      "cell_type": "markdown",
      "metadata": {
        "id": "mNf1Uy-3I7cu",
        "colab_type": "text"
      },
      "source": [
        "**Visualizing Datasets:**"
      ]
    },
    {
      "cell_type": "code",
      "metadata": {
        "id": "ud0DOkLYJArE",
        "colab_type": "code",
        "outputId": "1455f8d6-0207-4414-930b-3dc79ec2a183",
        "colab": {
          "base_uri": "https://localhost:8080/",
          "height": 111
        }
      },
      "source": [
        "age.head(2)"
      ],
      "execution_count": 0,
      "outputs": [
        {
          "output_type": "execute_result",
          "data": {
            "text/html": [
              "<div>\n",
              "<style scoped>\n",
              "    .dataframe tbody tr th:only-of-type {\n",
              "        vertical-align: middle;\n",
              "    }\n",
              "\n",
              "    .dataframe tbody tr th {\n",
              "        vertical-align: top;\n",
              "    }\n",
              "\n",
              "    .dataframe thead th {\n",
              "        text-align: right;\n",
              "    }\n",
              "</style>\n",
              "<table border=\"1\" class=\"dataframe\">\n",
              "  <thead>\n",
              "    <tr style=\"text-align: right;\">\n",
              "      <th></th>\n",
              "      <th>ZIPCODE</th>\n",
              "      <th>GEOID10</th>\n",
              "      <th>ALAND10</th>\n",
              "      <th>AWATER10</th>\n",
              "      <th>INTPTLAT10</th>\n",
              "      <th>INTPTLON10</th>\n",
              "      <th>LIFE_EXP</th>\n",
              "    </tr>\n",
              "  </thead>\n",
              "  <tbody>\n",
              "    <tr>\n",
              "      <th>0</th>\n",
              "      <td>48236</td>\n",
              "      <td>2648236</td>\n",
              "      <td>19463663</td>\n",
              "      <td>3357791</td>\n",
              "      <td>42.425373</td>\n",
              "      <td>-82.893194</td>\n",
              "      <td>82</td>\n",
              "    </tr>\n",
              "    <tr>\n",
              "      <th>1</th>\n",
              "      <td>48213</td>\n",
              "      <td>2648213</td>\n",
              "      <td>16923386</td>\n",
              "      <td>0</td>\n",
              "      <td>42.397931</td>\n",
              "      <td>-82.995213</td>\n",
              "      <td>70</td>\n",
              "    </tr>\n",
              "  </tbody>\n",
              "</table>\n",
              "</div>"
            ],
            "text/plain": [
              "   ZIPCODE  GEOID10   ALAND10  AWATER10  INTPTLAT10  INTPTLON10  LIFE_EXP\n",
              "0    48236  2648236  19463663   3357791   42.425373  -82.893194        82\n",
              "1    48213  2648213  16923386         0   42.397931  -82.995213        70"
            ]
          },
          "metadata": {
            "tags": []
          },
          "execution_count": 27
        }
      ]
    },
    {
      "cell_type": "code",
      "metadata": {
        "id": "xVFyJxNCJIew",
        "colab_type": "code",
        "outputId": "f00edb9b-8c34-4aff-9beb-e3c556786edf",
        "colab": {
          "base_uri": "https://localhost:8080/",
          "height": 145
        }
      },
      "source": [
        "hosp.head(2)"
      ],
      "execution_count": 0,
      "outputs": [
        {
          "output_type": "execute_result",
          "data": {
            "text/html": [
              "<div>\n",
              "<style scoped>\n",
              "    .dataframe tbody tr th:only-of-type {\n",
              "        vertical-align: middle;\n",
              "    }\n",
              "\n",
              "    .dataframe tbody tr th {\n",
              "        vertical-align: top;\n",
              "    }\n",
              "\n",
              "    .dataframe thead th {\n",
              "        text-align: right;\n",
              "    }\n",
              "</style>\n",
              "<table border=\"1\" class=\"dataframe\">\n",
              "  <thead>\n",
              "    <tr style=\"text-align: right;\">\n",
              "      <th></th>\n",
              "      <th>OBJECTID</th>\n",
              "      <th>the_geom</th>\n",
              "      <th>Longitude</th>\n",
              "      <th>Latitude</th>\n",
              "      <th>FACNAME</th>\n",
              "      <th>BEDS</th>\n",
              "      <th>ADDRESS</th>\n",
              "      <th>CITY</th>\n",
              "      <th>CONTACT</th>\n",
              "      <th>CONPHONE</th>\n",
              "      <th>ZIPCODE</th>\n",
              "    </tr>\n",
              "  </thead>\n",
              "  <tbody>\n",
              "    <tr>\n",
              "      <th>0</th>\n",
              "      <td>2</td>\n",
              "      <td>POINT (-83.05995248583335 42.35680777815136)</td>\n",
              "      <td>-83.059952</td>\n",
              "      <td>42.356808</td>\n",
              "      <td>Department of Veterans Affairs Detroit Medical...</td>\n",
              "      <td>432</td>\n",
              "      <td>4646 John R Rd.</td>\n",
              "      <td>Detroit</td>\n",
              "      <td>Department of Veteran Affair</td>\n",
              "      <td>(313) 562-6000</td>\n",
              "      <td>48201</td>\n",
              "    </tr>\n",
              "    <tr>\n",
              "      <th>1</th>\n",
              "      <td>9</td>\n",
              "      <td>POINT (-82.91405691453649 42.41916225569439)</td>\n",
              "      <td>-82.914057</td>\n",
              "      <td>42.419162</td>\n",
              "      <td>St. John Hospital &amp; Medical Ctr. - Detroit</td>\n",
              "      <td>572</td>\n",
              "      <td>22101 Moross Rd.</td>\n",
              "      <td>Detroit</td>\n",
              "      <td>St. John Health System</td>\n",
              "      <td>(313) 343-4000</td>\n",
              "      <td>48236</td>\n",
              "    </tr>\n",
              "  </tbody>\n",
              "</table>\n",
              "</div>"
            ],
            "text/plain": [
              "   OBJECTID                                      the_geom  Longitude  \\\n",
              "0         2  POINT (-83.05995248583335 42.35680777815136) -83.059952   \n",
              "1         9  POINT (-82.91405691453649 42.41916225569439) -82.914057   \n",
              "\n",
              "    Latitude                                            FACNAME  BEDS  \\\n",
              "0  42.356808  Department of Veterans Affairs Detroit Medical...   432   \n",
              "1  42.419162         St. John Hospital & Medical Ctr. - Detroit   572   \n",
              "\n",
              "            ADDRESS     CITY                       CONTACT        CONPHONE  \\\n",
              "0   4646 John R Rd.  Detroit  Department of Veteran Affair  (313) 562-6000   \n",
              "1  22101 Moross Rd.  Detroit        St. John Health System  (313) 343-4000   \n",
              "\n",
              "   ZIPCODE  \n",
              "0    48201  \n",
              "1    48236  "
            ]
          },
          "metadata": {
            "tags": []
          },
          "execution_count": 28
        }
      ]
    },
    {
      "cell_type": "code",
      "metadata": {
        "id": "bHL3C9INJOX6",
        "colab_type": "code",
        "outputId": "a97db11b-a6aa-4a0a-9f1c-ef9922418925",
        "colab": {
          "base_uri": "https://localhost:8080/",
          "height": 216
        }
      },
      "source": [
        "muap.head(2)"
      ],
      "execution_count": 0,
      "outputs": [
        {
          "output_type": "execute_result",
          "data": {
            "text/html": [
              "<div>\n",
              "<style scoped>\n",
              "    .dataframe tbody tr th:only-of-type {\n",
              "        vertical-align: middle;\n",
              "    }\n",
              "\n",
              "    .dataframe tbody tr th {\n",
              "        vertical-align: top;\n",
              "    }\n",
              "\n",
              "    .dataframe thead th {\n",
              "        text-align: right;\n",
              "    }\n",
              "</style>\n",
              "<table border=\"1\" class=\"dataframe\">\n",
              "  <thead>\n",
              "    <tr style=\"text-align: right;\">\n",
              "      <th></th>\n",
              "      <th>the_geom</th>\n",
              "      <th>aland10</th>\n",
              "      <th>namelsad10</th>\n",
              "      <th>tractce10</th>\n",
              "      <th>funcstat10</th>\n",
              "      <th>name10</th>\n",
              "      <th>intptlon10</th>\n",
              "      <th>intptlat10</th>\n",
              "      <th>mtfcc10</th>\n",
              "      <th>geoid10</th>\n",
              "      <th>awater10</th>\n",
              "      <th>statefp10</th>\n",
              "      <th>countyfp10</th>\n",
              "      <th>shape_area</th>\n",
              "      <th>shape_leng</th>\n",
              "      <th>srvc_area</th>\n",
              "      <th>MUAP</th>\n",
              "      <th>MUAP_index</th>\n",
              "      <th>MUAP_date</th>\n",
              "      <th>date_updat</th>\n",
              "    </tr>\n",
              "  </thead>\n",
              "  <tbody>\n",
              "    <tr>\n",
              "      <th>0</th>\n",
              "      <td>MULTIPOLYGON (((-83.15892563126202 42.25736606...</td>\n",
              "      <td>1118325</td>\n",
              "      <td>Census Tract 5248</td>\n",
              "      <td>524800</td>\n",
              "      <td>S</td>\n",
              "      <td>5248</td>\n",
              "      <td>-83.161591</td>\n",
              "      <td>42.263100</td>\n",
              "      <td>G5020</td>\n",
              "      <td>26163524800</td>\n",
              "      <td>0</td>\n",
              "      <td>26</td>\n",
              "      <td>163</td>\n",
              "      <td>1.203676e+07</td>\n",
              "      <td>14666.801597</td>\n",
              "      <td>Southwest Detroit Service Area</td>\n",
              "      <td>Medically Underserved Area</td>\n",
              "      <td>42.4</td>\n",
              "      <td>9/27/1994</td>\n",
              "      <td>9/27/1994</td>\n",
              "    </tr>\n",
              "    <tr>\n",
              "      <th>1</th>\n",
              "      <td>MULTIPOLYGON (((-83.0767713973331 42.343641331...</td>\n",
              "      <td>1692449</td>\n",
              "      <td>Census Tract 5219</td>\n",
              "      <td>521900</td>\n",
              "      <td>S</td>\n",
              "      <td>5219</td>\n",
              "      <td>-83.080534</td>\n",
              "      <td>42.350399</td>\n",
              "      <td>G5020</td>\n",
              "      <td>26163521900</td>\n",
              "      <td>0</td>\n",
              "      <td>26</td>\n",
              "      <td>163</td>\n",
              "      <td>1.821557e+07</td>\n",
              "      <td>22567.227618</td>\n",
              "      <td>Wayne Service Area</td>\n",
              "      <td>Medically Underserved Area</td>\n",
              "      <td>55.5</td>\n",
              "      <td>5/5/1994</td>\n",
              "      <td>5/5/1994</td>\n",
              "    </tr>\n",
              "  </tbody>\n",
              "</table>\n",
              "</div>"
            ],
            "text/plain": [
              "                                            the_geom  aland10  \\\n",
              "0  MULTIPOLYGON (((-83.15892563126202 42.25736606...  1118325   \n",
              "1  MULTIPOLYGON (((-83.0767713973331 42.343641331...  1692449   \n",
              "\n",
              "          namelsad10  tractce10 funcstat10  name10  intptlon10  intptlat10  \\\n",
              "0  Census Tract 5248     524800          S    5248  -83.161591   42.263100   \n",
              "1  Census Tract 5219     521900          S    5219  -83.080534   42.350399   \n",
              "\n",
              "  mtfcc10      geoid10  awater10  statefp10  countyfp10    shape_area  \\\n",
              "0   G5020  26163524800         0         26         163  1.203676e+07   \n",
              "1   G5020  26163521900         0         26         163  1.821557e+07   \n",
              "\n",
              "     shape_leng                       srvc_area                        MUAP  \\\n",
              "0  14666.801597  Southwest Detroit Service Area  Medically Underserved Area   \n",
              "1  22567.227618              Wayne Service Area  Medically Underserved Area   \n",
              "\n",
              "   MUAP_index  MUAP_date date_updat  \n",
              "0        42.4  9/27/1994  9/27/1994  \n",
              "1        55.5   5/5/1994   5/5/1994  "
            ]
          },
          "metadata": {
            "tags": []
          },
          "execution_count": 29
        }
      ]
    },
    {
      "cell_type": "code",
      "metadata": {
        "id": "w4v5IvDYJPE8",
        "colab_type": "code",
        "outputId": "1020befb-9287-42f9-957b-425d2ce0149b",
        "colab": {
          "base_uri": "https://localhost:8080/",
          "height": 330
        }
      },
      "source": [
        "brfss.head(2)"
      ],
      "execution_count": 0,
      "outputs": [
        {
          "output_type": "execute_result",
          "data": {
            "text/html": [
              "<div>\n",
              "<style scoped>\n",
              "    .dataframe tbody tr th:only-of-type {\n",
              "        vertical-align: middle;\n",
              "    }\n",
              "\n",
              "    .dataframe tbody tr th {\n",
              "        vertical-align: top;\n",
              "    }\n",
              "\n",
              "    .dataframe thead th {\n",
              "        text-align: right;\n",
              "    }\n",
              "</style>\n",
              "<table border=\"1\" class=\"dataframe\">\n",
              "  <thead>\n",
              "    <tr style=\"text-align: right;\">\n",
              "      <th></th>\n",
              "      <th>YearStart</th>\n",
              "      <th>YearEnd</th>\n",
              "      <th>LocationAbbr</th>\n",
              "      <th>LocationDesc</th>\n",
              "      <th>Datasource</th>\n",
              "      <th>Class</th>\n",
              "      <th>Topic</th>\n",
              "      <th>Question</th>\n",
              "      <th>Data_Value_Unit</th>\n",
              "      <th>Data_Value_Type</th>\n",
              "      <th>...</th>\n",
              "      <th>GeoLocation</th>\n",
              "      <th>ClassID</th>\n",
              "      <th>TopicID</th>\n",
              "      <th>QuestionID</th>\n",
              "      <th>DataValueTypeID</th>\n",
              "      <th>LocationID</th>\n",
              "      <th>StratificationCategory1</th>\n",
              "      <th>Stratification1</th>\n",
              "      <th>StratificationCategoryId1</th>\n",
              "      <th>StratificationID1</th>\n",
              "    </tr>\n",
              "  </thead>\n",
              "  <tbody>\n",
              "    <tr>\n",
              "      <th>0</th>\n",
              "      <td>2011</td>\n",
              "      <td>2011</td>\n",
              "      <td>AL</td>\n",
              "      <td>Alabama</td>\n",
              "      <td>Behavioral Risk Factor Surveillance System</td>\n",
              "      <td>Obesity / Weight Status</td>\n",
              "      <td>Obesity / Weight Status</td>\n",
              "      <td>Percent of adults aged 18 years and older who ...</td>\n",
              "      <td>NaN</td>\n",
              "      <td>Value</td>\n",
              "      <td>...</td>\n",
              "      <td>(32.84057112200048, -86.63186076199969)</td>\n",
              "      <td>OWS</td>\n",
              "      <td>OWS1</td>\n",
              "      <td>Q036</td>\n",
              "      <td>VALUE</td>\n",
              "      <td>1</td>\n",
              "      <td>Total</td>\n",
              "      <td>Total</td>\n",
              "      <td>OVR</td>\n",
              "      <td>OVERALL</td>\n",
              "    </tr>\n",
              "    <tr>\n",
              "      <th>1</th>\n",
              "      <td>2011</td>\n",
              "      <td>2011</td>\n",
              "      <td>AL</td>\n",
              "      <td>Alabama</td>\n",
              "      <td>Behavioral Risk Factor Surveillance System</td>\n",
              "      <td>Obesity / Weight Status</td>\n",
              "      <td>Obesity / Weight Status</td>\n",
              "      <td>Percent of adults aged 18 years and older who ...</td>\n",
              "      <td>NaN</td>\n",
              "      <td>Value</td>\n",
              "      <td>...</td>\n",
              "      <td>(32.84057112200048, -86.63186076199969)</td>\n",
              "      <td>OWS</td>\n",
              "      <td>OWS1</td>\n",
              "      <td>Q036</td>\n",
              "      <td>VALUE</td>\n",
              "      <td>1</td>\n",
              "      <td>Gender</td>\n",
              "      <td>Male</td>\n",
              "      <td>GEN</td>\n",
              "      <td>MALE</td>\n",
              "    </tr>\n",
              "  </tbody>\n",
              "</table>\n",
              "<p>2 rows × 33 columns</p>\n",
              "</div>"
            ],
            "text/plain": [
              "   YearStart  YearEnd LocationAbbr LocationDesc  \\\n",
              "0       2011     2011           AL      Alabama   \n",
              "1       2011     2011           AL      Alabama   \n",
              "\n",
              "                                   Datasource                    Class  \\\n",
              "0  Behavioral Risk Factor Surveillance System  Obesity / Weight Status   \n",
              "1  Behavioral Risk Factor Surveillance System  Obesity / Weight Status   \n",
              "\n",
              "                     Topic                                           Question  \\\n",
              "0  Obesity / Weight Status  Percent of adults aged 18 years and older who ...   \n",
              "1  Obesity / Weight Status  Percent of adults aged 18 years and older who ...   \n",
              "\n",
              "   Data_Value_Unit Data_Value_Type        ...         \\\n",
              "0              NaN           Value        ...          \n",
              "1              NaN           Value        ...          \n",
              "\n",
              "                               GeoLocation  ClassID TopicID QuestionID  \\\n",
              "0  (32.84057112200048, -86.63186076199969)      OWS    OWS1       Q036   \n",
              "1  (32.84057112200048, -86.63186076199969)      OWS    OWS1       Q036   \n",
              "\n",
              "   DataValueTypeID  LocationID  StratificationCategory1 Stratification1  \\\n",
              "0            VALUE           1                    Total           Total   \n",
              "1            VALUE           1                   Gender            Male   \n",
              "\n",
              "  StratificationCategoryId1 StratificationID1  \n",
              "0                       OVR           OVERALL  \n",
              "1                       GEN              MALE  \n",
              "\n",
              "[2 rows x 33 columns]"
            ]
          },
          "metadata": {
            "tags": []
          },
          "execution_count": 30
        }
      ]
    },
    {
      "cell_type": "markdown",
      "metadata": {
        "id": "dO60L9fDJjlD",
        "colab_type": "text"
      },
      "source": [
        "From the above initial datasets, we can see that the dataset columns have some uppercase words and many columns that hold information that has no value for us.\n",
        "\n"
      ]
    },
    {
      "cell_type": "markdown",
      "metadata": {
        "id": "XHC-RfkkJZpa",
        "colab_type": "text"
      },
      "source": [
        "**Data Cleaning the Datasets:**"
      ]
    },
    {
      "cell_type": "code",
      "metadata": {
        "id": "E6SmS097JeZC",
        "colab_type": "code",
        "outputId": "8515c441-21b7-4f76-c1dc-3883b7fa2003",
        "colab": {
          "base_uri": "https://localhost:8080/",
          "height": 80
        }
      },
      "source": [
        "## Age Dataset:\n",
        "age.columns = [x.lower() for x in age.columns]\n",
        "age= age.drop(columns=\"geoid10\")\n",
        "age= age.drop(columns=\"aland10\")\n",
        "age= age.drop(columns=\"awater10\")\n",
        "age.head(1)"
      ],
      "execution_count": 0,
      "outputs": [
        {
          "output_type": "execute_result",
          "data": {
            "text/html": [
              "<div>\n",
              "<style scoped>\n",
              "    .dataframe tbody tr th:only-of-type {\n",
              "        vertical-align: middle;\n",
              "    }\n",
              "\n",
              "    .dataframe tbody tr th {\n",
              "        vertical-align: top;\n",
              "    }\n",
              "\n",
              "    .dataframe thead th {\n",
              "        text-align: right;\n",
              "    }\n",
              "</style>\n",
              "<table border=\"1\" class=\"dataframe\">\n",
              "  <thead>\n",
              "    <tr style=\"text-align: right;\">\n",
              "      <th></th>\n",
              "      <th>zipcode</th>\n",
              "      <th>intptlat10</th>\n",
              "      <th>intptlon10</th>\n",
              "      <th>life_exp</th>\n",
              "    </tr>\n",
              "  </thead>\n",
              "  <tbody>\n",
              "    <tr>\n",
              "      <th>0</th>\n",
              "      <td>48236</td>\n",
              "      <td>42.425373</td>\n",
              "      <td>-82.893194</td>\n",
              "      <td>82</td>\n",
              "    </tr>\n",
              "  </tbody>\n",
              "</table>\n",
              "</div>"
            ],
            "text/plain": [
              "   zipcode  intptlat10  intptlon10  life_exp\n",
              "0    48236   42.425373  -82.893194        82"
            ]
          },
          "metadata": {
            "tags": []
          },
          "execution_count": 31
        }
      ]
    },
    {
      "cell_type": "code",
      "metadata": {
        "id": "sdjHMpe5LcWc",
        "colab_type": "code",
        "outputId": "d984088c-e004-4f85-8b55-65e8c04433d3",
        "colab": {
          "base_uri": "https://localhost:8080/",
          "height": 80
        }
      },
      "source": [
        "## Hosp Dataset:\n",
        "hosp.columns = [x.lower() for x in hosp.columns]\n",
        "hosp= hosp.drop(columns=\"the_geom\")\n",
        "hosp= hosp.drop(columns=\"zipcode\")\n",
        "hosp.head(1)"
      ],
      "execution_count": 0,
      "outputs": [
        {
          "output_type": "execute_result",
          "data": {
            "text/html": [
              "<div>\n",
              "<style scoped>\n",
              "    .dataframe tbody tr th:only-of-type {\n",
              "        vertical-align: middle;\n",
              "    }\n",
              "\n",
              "    .dataframe tbody tr th {\n",
              "        vertical-align: top;\n",
              "    }\n",
              "\n",
              "    .dataframe thead th {\n",
              "        text-align: right;\n",
              "    }\n",
              "</style>\n",
              "<table border=\"1\" class=\"dataframe\">\n",
              "  <thead>\n",
              "    <tr style=\"text-align: right;\">\n",
              "      <th></th>\n",
              "      <th>objectid</th>\n",
              "      <th>longitude</th>\n",
              "      <th>latitude</th>\n",
              "      <th>facname</th>\n",
              "      <th>beds</th>\n",
              "      <th>address</th>\n",
              "      <th>city</th>\n",
              "      <th>contact</th>\n",
              "      <th>conphone</th>\n",
              "    </tr>\n",
              "  </thead>\n",
              "  <tbody>\n",
              "    <tr>\n",
              "      <th>0</th>\n",
              "      <td>2</td>\n",
              "      <td>-83.059952</td>\n",
              "      <td>42.356808</td>\n",
              "      <td>Department of Veterans Affairs Detroit Medical...</td>\n",
              "      <td>432</td>\n",
              "      <td>4646 John R Rd.</td>\n",
              "      <td>Detroit</td>\n",
              "      <td>Department of Veteran Affair</td>\n",
              "      <td>(313) 562-6000</td>\n",
              "    </tr>\n",
              "  </tbody>\n",
              "</table>\n",
              "</div>"
            ],
            "text/plain": [
              "   objectid  longitude   latitude  \\\n",
              "0         2 -83.059952  42.356808   \n",
              "\n",
              "                                             facname  beds          address  \\\n",
              "0  Department of Veterans Affairs Detroit Medical...   432  4646 John R Rd.   \n",
              "\n",
              "      city                       contact        conphone  \n",
              "0  Detroit  Department of Veteran Affair  (313) 562-6000  "
            ]
          },
          "metadata": {
            "tags": []
          },
          "execution_count": 32
        }
      ]
    },
    {
      "cell_type": "code",
      "metadata": {
        "id": "3QzamzrDW-mC",
        "colab_type": "code",
        "outputId": "bbfad969-2947-410b-8411-3f0f8a87dc08",
        "colab": {
          "base_uri": "https://localhost:8080/",
          "height": 97
        }
      },
      "source": [
        "## Muap Dataset:\n",
        "muap= muap.drop(columns=\"the_geom\")\n",
        "muap= muap.drop(columns=\"aland10\")\n",
        "muap= muap.drop(columns=\"namelsad10\")\n",
        "muap= muap.drop(columns=\"tractce10\")\n",
        "muap= muap.drop(columns=\"funcstat10\")\n",
        "muap= muap.drop(columns=\"mtfcc10\")\n",
        "muap= muap.drop(columns=\"shape_area\")\n",
        "muap= muap.drop(columns=\"shape_leng\")\n",
        "muap.head(1)"
      ],
      "execution_count": 0,
      "outputs": [
        {
          "output_type": "execute_result",
          "data": {
            "text/html": [
              "<div>\n",
              "<style scoped>\n",
              "    .dataframe tbody tr th:only-of-type {\n",
              "        vertical-align: middle;\n",
              "    }\n",
              "\n",
              "    .dataframe tbody tr th {\n",
              "        vertical-align: top;\n",
              "    }\n",
              "\n",
              "    .dataframe thead th {\n",
              "        text-align: right;\n",
              "    }\n",
              "</style>\n",
              "<table border=\"1\" class=\"dataframe\">\n",
              "  <thead>\n",
              "    <tr style=\"text-align: right;\">\n",
              "      <th></th>\n",
              "      <th>name10</th>\n",
              "      <th>intptlon10</th>\n",
              "      <th>intptlat10</th>\n",
              "      <th>geoid10</th>\n",
              "      <th>awater10</th>\n",
              "      <th>statefp10</th>\n",
              "      <th>countyfp10</th>\n",
              "      <th>srvc_area</th>\n",
              "      <th>MUAP</th>\n",
              "      <th>MUAP_index</th>\n",
              "      <th>MUAP_date</th>\n",
              "      <th>date_updat</th>\n",
              "    </tr>\n",
              "  </thead>\n",
              "  <tbody>\n",
              "    <tr>\n",
              "      <th>0</th>\n",
              "      <td>5248</td>\n",
              "      <td>-83.161591</td>\n",
              "      <td>42.2631</td>\n",
              "      <td>26163524800</td>\n",
              "      <td>0</td>\n",
              "      <td>26</td>\n",
              "      <td>163</td>\n",
              "      <td>Southwest Detroit Service Area</td>\n",
              "      <td>Medically Underserved Area</td>\n",
              "      <td>42.4</td>\n",
              "      <td>9/27/1994</td>\n",
              "      <td>9/27/1994</td>\n",
              "    </tr>\n",
              "  </tbody>\n",
              "</table>\n",
              "</div>"
            ],
            "text/plain": [
              "   name10  intptlon10  intptlat10      geoid10  awater10  statefp10  \\\n",
              "0    5248  -83.161591     42.2631  26163524800         0         26   \n",
              "\n",
              "   countyfp10                       srvc_area                        MUAP  \\\n",
              "0         163  Southwest Detroit Service Area  Medically Underserved Area   \n",
              "\n",
              "   MUAP_index  MUAP_date date_updat  \n",
              "0        42.4  9/27/1994  9/27/1994  "
            ]
          },
          "metadata": {
            "tags": []
          },
          "execution_count": 33
        }
      ]
    },
    {
      "cell_type": "code",
      "metadata": {
        "id": "_tiev9F4YPIt",
        "colab_type": "code",
        "outputId": "4a991d49-501e-4cd0-d368-58c09aa313bf",
        "colab": {
          "base_uri": "https://localhost:8080/",
          "height": 214
        }
      },
      "source": [
        "## Brfss Dataset:\n",
        "brfss.columns = [x.lower() for x in brfss.columns]\n",
        "brfss.drop(['low_confidence_limit','high_confidence_limit ','yearend','topic','class','datasource','data_value_unit','questionid','classid','topicid','datavaluetypeid','data_value_type','data_value_footnote_symbol','data_value_footnote','stratificationcategoryid1','stratificationid1'],1);\n",
        "brfss.head(1)"
      ],
      "execution_count": 0,
      "outputs": [
        {
          "output_type": "execute_result",
          "data": {
            "text/html": [
              "<div>\n",
              "<style scoped>\n",
              "    .dataframe tbody tr th:only-of-type {\n",
              "        vertical-align: middle;\n",
              "    }\n",
              "\n",
              "    .dataframe tbody tr th {\n",
              "        vertical-align: top;\n",
              "    }\n",
              "\n",
              "    .dataframe thead th {\n",
              "        text-align: right;\n",
              "    }\n",
              "</style>\n",
              "<table border=\"1\" class=\"dataframe\">\n",
              "  <thead>\n",
              "    <tr style=\"text-align: right;\">\n",
              "      <th></th>\n",
              "      <th>yearstart</th>\n",
              "      <th>yearend</th>\n",
              "      <th>locationabbr</th>\n",
              "      <th>locationdesc</th>\n",
              "      <th>datasource</th>\n",
              "      <th>class</th>\n",
              "      <th>topic</th>\n",
              "      <th>question</th>\n",
              "      <th>data_value_unit</th>\n",
              "      <th>data_value_type</th>\n",
              "      <th>...</th>\n",
              "      <th>geolocation</th>\n",
              "      <th>classid</th>\n",
              "      <th>topicid</th>\n",
              "      <th>questionid</th>\n",
              "      <th>datavaluetypeid</th>\n",
              "      <th>locationid</th>\n",
              "      <th>stratificationcategory1</th>\n",
              "      <th>stratification1</th>\n",
              "      <th>stratificationcategoryid1</th>\n",
              "      <th>stratificationid1</th>\n",
              "    </tr>\n",
              "  </thead>\n",
              "  <tbody>\n",
              "    <tr>\n",
              "      <th>0</th>\n",
              "      <td>2011</td>\n",
              "      <td>2011</td>\n",
              "      <td>AL</td>\n",
              "      <td>Alabama</td>\n",
              "      <td>Behavioral Risk Factor Surveillance System</td>\n",
              "      <td>Obesity / Weight Status</td>\n",
              "      <td>Obesity / Weight Status</td>\n",
              "      <td>Percent of adults aged 18 years and older who ...</td>\n",
              "      <td>NaN</td>\n",
              "      <td>Value</td>\n",
              "      <td>...</td>\n",
              "      <td>(32.84057112200048, -86.63186076199969)</td>\n",
              "      <td>OWS</td>\n",
              "      <td>OWS1</td>\n",
              "      <td>Q036</td>\n",
              "      <td>VALUE</td>\n",
              "      <td>1</td>\n",
              "      <td>Total</td>\n",
              "      <td>Total</td>\n",
              "      <td>OVR</td>\n",
              "      <td>OVERALL</td>\n",
              "    </tr>\n",
              "  </tbody>\n",
              "</table>\n",
              "<p>1 rows × 33 columns</p>\n",
              "</div>"
            ],
            "text/plain": [
              "   yearstart  yearend locationabbr locationdesc  \\\n",
              "0       2011     2011           AL      Alabama   \n",
              "\n",
              "                                   datasource                    class  \\\n",
              "0  Behavioral Risk Factor Surveillance System  Obesity / Weight Status   \n",
              "\n",
              "                     topic                                           question  \\\n",
              "0  Obesity / Weight Status  Percent of adults aged 18 years and older who ...   \n",
              "\n",
              "   data_value_unit data_value_type        ...         \\\n",
              "0              NaN           Value        ...          \n",
              "\n",
              "                               geolocation  classid topicid questionid  \\\n",
              "0  (32.84057112200048, -86.63186076199969)      OWS    OWS1       Q036   \n",
              "\n",
              "   datavaluetypeid  locationid  stratificationcategory1 stratification1  \\\n",
              "0            VALUE           1                    Total           Total   \n",
              "\n",
              "  stratificationcategoryid1 stratificationid1  \n",
              "0                       OVR           OVERALL  \n",
              "\n",
              "[1 rows x 33 columns]"
            ]
          },
          "metadata": {
            "tags": []
          },
          "execution_count": 34
        }
      ]
    },
    {
      "cell_type": "markdown",
      "metadata": {
        "id": "LCys32lEbcLr",
        "colab_type": "text"
      },
      "source": [
        "The 4 datasets have been cleaned to a single uniform setup:\n",
        "\n",
        "*   All column names were lowercased\n",
        "*   Columns with unuseful data were deleted\n",
        "*  There was no need in substituting NAN or missing valuess since as far as the numeric data that we want to use none showed missing values, and for some missing values we aren't able to take means to substitue the values since geolocations are distinct locations and means of those are unnecessary. \n",
        "\n"
      ]
    },
    {
      "cell_type": "markdown",
      "metadata": {
        "id": "s44OGPIicNOS",
        "colab_type": "text"
      },
      "source": [
        "**Dataset Analysis & Plots**"
      ]
    },
    {
      "cell_type": "markdown",
      "metadata": {
        "id": "ayhRzvaicSLX",
        "colab_type": "text"
      },
      "source": [
        "First, our team wanted to inspect the life expectancy in the city of Detroit which is part of Wayne County, the life expectancy was given with respect to a geolocation of different locations in Wayne County. "
      ]
    },
    {
      "cell_type": "code",
      "metadata": {
        "id": "ZGnOKBAIchlq",
        "colab_type": "code",
        "outputId": "b5c55200-be13-4302-b1ac-1f3245aae45b",
        "colab": {
          "base_uri": "https://localhost:8080/",
          "height": 294
        }
      },
      "source": [
        "a1 = plt.scatter(y = \"intptlat10\" , x = \"intptlon10\" ,\n",
        "                    data = age[(age['intptlat10']>0)  & (age['life_exp']>65)],color='red',label='65-70 years')\n",
        "a2 = plt.scatter(x = \"intptlon10\" , y = \"intptlat10\" ,\n",
        "                    data = age[(age['intptlat10']>0)  & (age['life_exp']>70)],color='orange',label='71-75 years')\n",
        "a3 = plt.scatter(x = \"intptlon10\" , y= \"intptlat10\" ,\n",
        "                    data = age[(age['intptlat10']>0)  & (age['life_exp']>75)],color='yellow',label='76-80 years')\n",
        "a4 = plt.scatter(y = \"intptlat10\" , x = \"intptlon10\" ,\n",
        "                    data = age[(age['intptlat10']>0)  & (age['life_exp']>80)],color='blue',label='81-85 years')\n",
        "plt.title('Life expectancy in Wayne County')\n",
        "plt.xlabel('Longitude')\n",
        "plt.ylabel('Latitude')\n",
        "plt.legend(handles=[a1,a2,a3,a4])\n",
        "plt.show()\n",
        " "
      ],
      "execution_count": 0,
      "outputs": [
        {
          "output_type": "display_data",
          "data": {
            "image/png": "[encoded data removed]",
            "text/plain": [
              "<matplotlib.figure.Figure at 0x7f2ce74d0e10>"
            ]
          },
          "metadata": {
            "tags": []
          }
        }
      ]
    },
    {
      "cell_type": "markdown",
      "metadata": {
        "id": "ijsvuThNeelP",
        "colab_type": "text"
      },
      "source": [
        "From the above geolocation plot, we can see that across Wayne County , the saturation of the 2 lowest life expectancy groups (red & orange) are located in the top right side of the county which is representative of the city of Detroit (based on the geolocation that match Detroit city geolocation limits). For the 2 highest life expectancry groups (yellow & blue), they are mostly located to the left side of the and the bottom of the plot of the county which are the neighboring cities to Detroit ."
      ]
    },
    {
      "cell_type": "code",
      "metadata": {
        "id": "jVreSh_6f53v",
        "colab_type": "code",
        "outputId": "884155d5-359a-4cd7-d365-74309803c6b9",
        "colab": {
          "base_uri": "https://localhost:8080/",
          "height": 345
        }
      },
      "source": [
        "ax=sns.countplot(x='life_exp', data=age);\n",
        "ax.set(xlabel='Age', ylabel='Frequency')\n",
        "plt.title(\"Trend of Life Expectancy in Wayne County\") "
      ],
      "execution_count": 0,
      "outputs": [
        {
          "output_type": "stream",
          "text": [
            "/usr/local/lib/python3.6/dist-packages/seaborn/categorical.py:1428: FutureWarning: remove_na is deprecated and is a private function. Do not use.\n",
            "  stat_data = remove_na(group_data)\n"
          ],
          "name": "stderr"
        },
        {
          "output_type": "execute_result",
          "data": {
            "text/plain": [
              "Text(0.5,1,'Trend of Life Expectancy in Wayne County')"
            ]
          },
          "metadata": {
            "tags": []
          },
          "execution_count": 36
        },
        {
          "output_type": "display_data",
          "data": {
            "image/png": "[encoded data removed]",
            "text/plain": [
              "<matplotlib.figure.Figure at 0x7f2ce7598278>"
            ]
          },
          "metadata": {
            "tags": []
          }
        }
      ]
    },
    {
      "cell_type": "markdown",
      "metadata": {
        "id": "PYGDowIFgdo5",
        "colab_type": "text"
      },
      "source": [
        "From the above countplot we can see the frequency of each age life expectancy. From the visualization, we can see that the lowest age expectancy is 69 years and the highest is 85 years. 71 years of age was counted the most throughtout Wayne County. "
      ]
    },
    {
      "cell_type": "markdown",
      "metadata": {
        "id": "ydjx387phvVC",
        "colab_type": "text"
      },
      "source": [
        "To better understand what the life expectancy data shows, we ran a statistics evaluation."
      ]
    },
    {
      "cell_type": "code",
      "metadata": {
        "id": "mNKYfuLrh9HZ",
        "colab_type": "code",
        "outputId": "8bf96001-3c97-4a4a-e651-287691950496",
        "colab": {
          "base_uri": "https://localhost:8080/",
          "height": 68
        }
      },
      "source": [
        "print(\"Median Life Expectancy: \", age['life_exp'].median())\n",
        "print(\"Mean Life Expectancy: \", age['life_exp'].mean())\n",
        "count =  np.count_nonzero(age['life_exp'] == 71)\n",
        "print(\"Count of Life Expectancy age 71 years: \",count )"
      ],
      "execution_count": 0,
      "outputs": [
        {
          "output_type": "stream",
          "text": [
            "Median Life Expectancy:  74.0\n",
            "Mean Life Expectancy:  75.07692307692308\n",
            "Count of Life Expectancy age 71 years:  11\n"
          ],
          "name": "stdout"
        }
      ]
    },
    {
      "cell_type": "markdown",
      "metadata": {
        "id": "EYJnXoY2nx6p",
        "colab_type": "text"
      },
      "source": [
        "The mean life expectancy in Wayne County turned out to be 75.07 years. Compared to the US national life expectancy of 78.7 years, Wayne County's is lower by 3.63 years. Why is that?"
      ]
    },
    {
      "cell_type": "markdown",
      "metadata": {
        "id": "kL6ZJY2SoOCT",
        "colab_type": "text"
      },
      "source": [
        "We decided to further analyze what some common factors might be to this lower life expectancy. We used datasets that show hospital location, data on medically underserved areas within Detroit and the obesity status. We believe all these factors typically impact life expectancy."
      ]
    },
    {
      "cell_type": "markdown",
      "metadata": {
        "id": "8fAlcrzJpXNM",
        "colab_type": "text"
      },
      "source": [
        "**Factor 1: Hospital Locations within city of Detroit**"
      ]
    },
    {
      "cell_type": "code",
      "metadata": {
        "id": "psdZw3PFpjzO",
        "colab_type": "code",
        "outputId": "3c86e2a4-25e7-4df1-dda0-a862cb7d8d85",
        "colab": {
          "base_uri": "https://localhost:8080/",
          "height": 294
        }
      },
      "source": [
        "a1 = plt.scatter(y = \"intptlat10\" , x = \"intptlon10\" ,\n",
        "                    data = age[(age['intptlon10']> -83.2)  & (age['life_exp']>65)],color='red',label='65-70 years')\n",
        "a2 = plt.scatter(x = \"intptlon10\" , y = \"intptlat10\" ,\n",
        "                    data = age[(age['intptlon10']> -83.2)  & (age['life_exp']>70)],color='orange',label='71-75 years')\n",
        "a3 = plt.scatter(x = \"intptlon10\" , y= \"intptlat10\" ,\n",
        "                    data = age[(age['intptlon10']> -83.2)  & (age['life_exp']>75)],color='yellow',label='76-80 years')\n",
        "a4 = plt.scatter(y = \"intptlat10\" , x = \"intptlon10\" ,\n",
        "                    data = age[(age['intptlon10']> -83.2)  & (age['life_exp']>80)],color='blue',label='81-85 years')\n",
        "a5 = plt.scatter(x = \"longitude\" , y = \"latitude\" ,\n",
        "                    data = hosp[(hosp['longitude']<0) ],color='black',label='hospital')\n",
        "plt.title('Life expectancy and Hospital Location in Detroit')\n",
        "plt.xlabel('Longitude')\n",
        "plt.ylabel('Latitude')\n",
        "plt.legend(handles=[a1,a2,a3,a4,a5])\n",
        "plt.show()"
      ],
      "execution_count": 0,
      "outputs": [
        {
          "output_type": "display_data",
          "data": {
            "image/png": "[encoded data removed]",
            "text/plain": [
              "<matplotlib.figure.Figure at 0x7f2ce73d5048>"
            ]
          },
          "metadata": {
            "tags": []
          }
        }
      ]
    },
    {
      "cell_type": "markdown",
      "metadata": {
        "id": "4ZCi2Aqdtsxe",
        "colab_type": "text"
      },
      "source": [
        "We decided to further zoom in on the geolocation map of life expectancy to only focus on the life expectancy locations that are relevant to Detroit. We also mapped out the hospital locations in Detroit to see if the issue was with unavailbility and scarecity of hospitals within the city. From the plot, we can see that the hospitals had no effect on life expectancy since the life expectancy around the hospital locations was still the red and orange groups which are the 2 lowest.  For areas within Detroit that weren't as close to the hospitals, the same low life expectancy was shown which further proves our analysis that hospitals have no effect on life expectancy and that whether or not people had close access to hospitals next to them, their life expectancy didn't show change. "
      ]
    },
    {
      "cell_type": "markdown",
      "metadata": {
        "id": "l9piChatyzfW",
        "colab_type": "text"
      },
      "source": [
        "**Factor 2: Medically Underserved Areas and Hospitals in Detroit**"
      ]
    },
    {
      "cell_type": "code",
      "metadata": {
        "id": "c1RhV5wky-F1",
        "colab_type": "code",
        "outputId": "f0e9f07b-0bcc-4bbb-f113-4a537b5d2430",
        "colab": {
          "base_uri": "https://localhost:8080/",
          "height": 294
        }
      },
      "source": [
        "b = plt.scatter(x = \"intptlon10\" , y = \"intptlat10\" ,\n",
        "                    data = muap[(muap['intptlat10']>0)  & (muap['MUAP_index']<40)],color='red',label='30-40 MUAP')\n",
        "b1 = plt.scatter(x = \"intptlon10\" , y = \"intptlat10\" ,\n",
        "                    data = muap[(muap['intptlat10']>0)  & (muap['MUAP_index']>40)],color='orange',label='41-50 MUAP')\n",
        "b2 = plt.scatter(x = \"intptlon10\" , y = \"intptlat10\" ,\n",
        "                    data = muap[(muap['intptlat10']>0)  & (muap['MUAP_index']>50)],color='yellow',label='51-62 MUAP')\n",
        "b3 = plt.scatter(x = \"intptlon10\" , y = \"intptlat10\" ,\n",
        "                    data = muap[(muap['intptlat10']>0)  & (muap['MUAP_index']>60)],color='blue',label='63-70 MUAP')\n",
        "a5 = plt.scatter(x = \"longitude\" , y = \"latitude\" ,\n",
        "                    data = hosp[(hosp['longitude']<0) ],color='black',label='hospital')\n",
        "\n",
        "plt.title('Medically Underserved Areas in Detroit')\n",
        "plt.xlabel('Longitude')\n",
        "plt.ylabel('Latitude')\n",
        "plt.legend(handles=[b,b1,b2,b3,a5])\n",
        "plt.show()"
      ],
      "execution_count": 0,
      "outputs": [
        {
          "output_type": "display_data",
          "data": {
            "image/png": "[encoded data removed]",
            "text/plain": [
              "<matplotlib.figure.Figure at 0x7f2ce73b1710>"
            ]
          },
          "metadata": {
            "tags": []
          }
        }
      ]
    },
    {
      "cell_type": "markdown",
      "metadata": {
        "id": "P_RZnudU9Zcv",
        "colab_type": "text"
      },
      "source": [
        "From the MUA index, any index of below 62 classifies means that the area is medically underserved, the lower the index the score the worse it is. From the above plot, we can see that Detroit shows many areas that are medically underserved, and the most prevalent are the blue and yellow MUAP which are the lowest groups. Even for areas that have hospitals (black dots), the area surrounding those still show as MUAP but not as low compared to the other areas within the city of Detroit. Our team can deduce that this overwhelming presence of medically underserved areas is a good factor to why the life expectancy in Detroit is low. If people struggle to receive medical treatment and services, chances are they won't be able to catch health issues and get medicated to better their health. This will lead to lower life spans for the citizens of Detroit. "
      ]
    },
    {
      "cell_type": "markdown",
      "metadata": {
        "id": "Hu9oktRWAh8Z",
        "colab_type": "text"
      },
      "source": [
        "**Factor 3: Obesity**"
      ]
    },
    {
      "cell_type": "markdown",
      "metadata": {
        "id": "1G1NGaXZBDO-",
        "colab_type": "text"
      },
      "source": [
        "The obesity dataset was included information for multiple states in the US, since our focus was on Detroit we decided to create a new dataset that is only relevant to Michigan State data. "
      ]
    },
    {
      "cell_type": "code",
      "metadata": {
        "id": "EYP-zjH9AlCW",
        "colab_type": "code",
        "colab": {}
      },
      "source": [
        "#Create separate Dataform from df by gender df2, by education level dfedu, and by income dfedu\n",
        "\n",
        "brfss2=brfss[(brfss['stratification1']=='Male')|(brfss['stratification1']=='Female')]\n",
        "brfssedu=brfss[brfss['stratificationcategory1']=='Education']\n",
        "brfssinc=brfss[brfss['stratificationcategory1']=='Income']\n",
        "\n",
        "#reset index for each of the new dataforms\n",
        "\n",
        "brfss2 = brfss2.reset_index(drop = True)\n",
        "brfssedu = brfssedu.reset_index(drop = True)\n",
        "brfssinc = brfssinc.reset_index(drop = True)"
      ],
      "execution_count": 0,
      "outputs": []
    },
    {
      "cell_type": "code",
      "metadata": {
        "id": "46tsENMuAxAF",
        "colab_type": "code",
        "outputId": "72d90927-a16e-41b4-e1a0-fce9ae145286",
        "colab": {
          "base_uri": "https://localhost:8080/",
          "height": 207
        }
      },
      "source": [
        "#Each category has the same survey questions\n",
        "\n",
        "brfss2['question'].unique()"
      ],
      "execution_count": 0,
      "outputs": [
        {
          "output_type": "execute_result",
          "data": {
            "text/plain": [
              "array(['Percent of adults aged 18 years and older who have obesity',\n",
              "       'Percent of adults aged 18 years and older who have an overweight classification',\n",
              "       'Percent of adults who report consuming fruit less than one time daily',\n",
              "       'Percent of adults who report consuming vegetables less than one time daily',\n",
              "       'Percent of adults who achieve at least 150 minutes a week of moderate-intensity aerobic physical activity or 75 minutes a week of vigorous-intensity aerobic activity (or an equivalent combination)',\n",
              "       'Percent of adults who achieve at least 150 minutes a week of moderate-intensity aerobic physical activity or 75 minutes a week of vigorous-intensity aerobic physical activity and engage in muscle-strengthening activities on 2 or more days a week',\n",
              "       'Percent of adults who achieve at least 300 minutes a week of moderate-intensity aerobic physical activity or 150 minutes a week of vigorous-intensity aerobic activity (or an equivalent combination)',\n",
              "       'Percent of adults who engage in muscle-strengthening activities on 2 or more days a week',\n",
              "       'Percent of adults who engage in no leisure-time physical activity'],\n",
              "      dtype=object)"
            ]
          },
          "metadata": {
            "tags": []
          },
          "execution_count": 41
        }
      ]
    },
    {
      "cell_type": "code",
      "metadata": {
        "id": "pYz7TSrHA2Um",
        "colab_type": "code",
        "colab": {}
      },
      "source": [
        "#here we are interested in the survey question directly about obesity and overweight percent\n",
        "\n",
        "X=['Percent of adults aged 18 years and older who have obesity','Percent of adults aged 18 years and older who have an overweight classification']\n",
        "\n",
        "\n",
        "brfss2=brfss2[brfss2['question']==X[0]]\n"
      ],
      "execution_count": 0,
      "outputs": []
    },
    {
      "cell_type": "code",
      "metadata": {
        "id": "YsCbV79ZA8Nd",
        "colab_type": "code",
        "colab": {}
      },
      "source": [
        "#Creating data including only Michigan State records\n",
        "brfssmi=brfss2[brfss2['locationdesc']=='Michigan']"
      ],
      "execution_count": 0,
      "outputs": []
    },
    {
      "cell_type": "code",
      "metadata": {
        "id": "FCKvslsjA_Qj",
        "colab_type": "code",
        "outputId": "6e6c9e10-365d-4390-97df-b9b29dfb79a8",
        "colab": {
          "base_uri": "https://localhost:8080/",
          "height": 678
        }
      },
      "source": [
        "brfssmi.head()"
      ],
      "execution_count": 0,
      "outputs": [
        {
          "output_type": "execute_result",
          "data": {
            "text/html": [
              "<div>\n",
              "<style scoped>\n",
              "    .dataframe tbody tr th:only-of-type {\n",
              "        vertical-align: middle;\n",
              "    }\n",
              "\n",
              "    .dataframe tbody tr th {\n",
              "        vertical-align: top;\n",
              "    }\n",
              "\n",
              "    .dataframe thead th {\n",
              "        text-align: right;\n",
              "    }\n",
              "</style>\n",
              "<table border=\"1\" class=\"dataframe\">\n",
              "  <thead>\n",
              "    <tr style=\"text-align: right;\">\n",
              "      <th></th>\n",
              "      <th>yearstart</th>\n",
              "      <th>yearend</th>\n",
              "      <th>locationabbr</th>\n",
              "      <th>locationdesc</th>\n",
              "      <th>datasource</th>\n",
              "      <th>class</th>\n",
              "      <th>topic</th>\n",
              "      <th>question</th>\n",
              "      <th>data_value_unit</th>\n",
              "      <th>data_value_type</th>\n",
              "      <th>...</th>\n",
              "      <th>geolocation</th>\n",
              "      <th>classid</th>\n",
              "      <th>topicid</th>\n",
              "      <th>questionid</th>\n",
              "      <th>datavaluetypeid</th>\n",
              "      <th>locationid</th>\n",
              "      <th>stratificationcategory1</th>\n",
              "      <th>stratification1</th>\n",
              "      <th>stratificationcategoryid1</th>\n",
              "      <th>stratificationid1</th>\n",
              "    </tr>\n",
              "  </thead>\n",
              "  <tbody>\n",
              "    <tr>\n",
              "      <th>1067</th>\n",
              "      <td>2011</td>\n",
              "      <td>2011</td>\n",
              "      <td>MI</td>\n",
              "      <td>Michigan</td>\n",
              "      <td>Behavioral Risk Factor Surveillance System</td>\n",
              "      <td>Obesity / Weight Status</td>\n",
              "      <td>Obesity / Weight Status</td>\n",
              "      <td>Percent of adults aged 18 years and older who ...</td>\n",
              "      <td>NaN</td>\n",
              "      <td>Value</td>\n",
              "      <td>...</td>\n",
              "      <td>(44.6613195430005, -84.71439026999968)</td>\n",
              "      <td>OWS</td>\n",
              "      <td>OWS1</td>\n",
              "      <td>Q036</td>\n",
              "      <td>VALUE</td>\n",
              "      <td>26</td>\n",
              "      <td>Gender</td>\n",
              "      <td>Male</td>\n",
              "      <td>GEN</td>\n",
              "      <td>MALE</td>\n",
              "    </tr>\n",
              "    <tr>\n",
              "      <th>1068</th>\n",
              "      <td>2011</td>\n",
              "      <td>2011</td>\n",
              "      <td>MI</td>\n",
              "      <td>Michigan</td>\n",
              "      <td>Behavioral Risk Factor Surveillance System</td>\n",
              "      <td>Obesity / Weight Status</td>\n",
              "      <td>Obesity / Weight Status</td>\n",
              "      <td>Percent of adults aged 18 years and older who ...</td>\n",
              "      <td>NaN</td>\n",
              "      <td>Value</td>\n",
              "      <td>...</td>\n",
              "      <td>(44.6613195430005, -84.71439026999968)</td>\n",
              "      <td>OWS</td>\n",
              "      <td>OWS1</td>\n",
              "      <td>Q036</td>\n",
              "      <td>VALUE</td>\n",
              "      <td>26</td>\n",
              "      <td>Gender</td>\n",
              "      <td>Female</td>\n",
              "      <td>GEN</td>\n",
              "      <td>FEMALE</td>\n",
              "    </tr>\n",
              "    <tr>\n",
              "      <th>1085</th>\n",
              "      <td>2012</td>\n",
              "      <td>2012</td>\n",
              "      <td>MI</td>\n",
              "      <td>Michigan</td>\n",
              "      <td>Behavioral Risk Factor Surveillance System</td>\n",
              "      <td>Obesity / Weight Status</td>\n",
              "      <td>Obesity / Weight Status</td>\n",
              "      <td>Percent of adults aged 18 years and older who ...</td>\n",
              "      <td>NaN</td>\n",
              "      <td>Value</td>\n",
              "      <td>...</td>\n",
              "      <td>(44.6613195430005, -84.71439026999968)</td>\n",
              "      <td>OWS</td>\n",
              "      <td>OWS1</td>\n",
              "      <td>Q036</td>\n",
              "      <td>VALUE</td>\n",
              "      <td>26</td>\n",
              "      <td>Gender</td>\n",
              "      <td>Male</td>\n",
              "      <td>GEN</td>\n",
              "      <td>MALE</td>\n",
              "    </tr>\n",
              "    <tr>\n",
              "      <th>1086</th>\n",
              "      <td>2012</td>\n",
              "      <td>2012</td>\n",
              "      <td>MI</td>\n",
              "      <td>Michigan</td>\n",
              "      <td>Behavioral Risk Factor Surveillance System</td>\n",
              "      <td>Obesity / Weight Status</td>\n",
              "      <td>Obesity / Weight Status</td>\n",
              "      <td>Percent of adults aged 18 years and older who ...</td>\n",
              "      <td>NaN</td>\n",
              "      <td>Value</td>\n",
              "      <td>...</td>\n",
              "      <td>(44.6613195430005, -84.71439026999968)</td>\n",
              "      <td>OWS</td>\n",
              "      <td>OWS1</td>\n",
              "      <td>Q036</td>\n",
              "      <td>VALUE</td>\n",
              "      <td>26</td>\n",
              "      <td>Gender</td>\n",
              "      <td>Female</td>\n",
              "      <td>GEN</td>\n",
              "      <td>FEMALE</td>\n",
              "    </tr>\n",
              "    <tr>\n",
              "      <th>1091</th>\n",
              "      <td>2013</td>\n",
              "      <td>2013</td>\n",
              "      <td>MI</td>\n",
              "      <td>Michigan</td>\n",
              "      <td>Behavioral Risk Factor Surveillance System</td>\n",
              "      <td>Obesity / Weight Status</td>\n",
              "      <td>Obesity / Weight Status</td>\n",
              "      <td>Percent of adults aged 18 years and older who ...</td>\n",
              "      <td>NaN</td>\n",
              "      <td>Value</td>\n",
              "      <td>...</td>\n",
              "      <td>(44.6613195430005, -84.71439026999968)</td>\n",
              "      <td>OWS</td>\n",
              "      <td>OWS1</td>\n",
              "      <td>Q036</td>\n",
              "      <td>VALUE</td>\n",
              "      <td>26</td>\n",
              "      <td>Gender</td>\n",
              "      <td>Male</td>\n",
              "      <td>GEN</td>\n",
              "      <td>MALE</td>\n",
              "    </tr>\n",
              "  </tbody>\n",
              "</table>\n",
              "<p>5 rows × 33 columns</p>\n",
              "</div>"
            ],
            "text/plain": [
              "      yearstart  yearend locationabbr locationdesc  \\\n",
              "1067       2011     2011           MI     Michigan   \n",
              "1068       2011     2011           MI     Michigan   \n",
              "1085       2012     2012           MI     Michigan   \n",
              "1086       2012     2012           MI     Michigan   \n",
              "1091       2013     2013           MI     Michigan   \n",
              "\n",
              "                                      datasource                    class  \\\n",
              "1067  Behavioral Risk Factor Surveillance System  Obesity / Weight Status   \n",
              "1068  Behavioral Risk Factor Surveillance System  Obesity / Weight Status   \n",
              "1085  Behavioral Risk Factor Surveillance System  Obesity / Weight Status   \n",
              "1086  Behavioral Risk Factor Surveillance System  Obesity / Weight Status   \n",
              "1091  Behavioral Risk Factor Surveillance System  Obesity / Weight Status   \n",
              "\n",
              "                        topic  \\\n",
              "1067  Obesity / Weight Status   \n",
              "1068  Obesity / Weight Status   \n",
              "1085  Obesity / Weight Status   \n",
              "1086  Obesity / Weight Status   \n",
              "1091  Obesity / Weight Status   \n",
              "\n",
              "                                               question  data_value_unit  \\\n",
              "1067  Percent of adults aged 18 years and older who ...              NaN   \n",
              "1068  Percent of adults aged 18 years and older who ...              NaN   \n",
              "1085  Percent of adults aged 18 years and older who ...              NaN   \n",
              "1086  Percent of adults aged 18 years and older who ...              NaN   \n",
              "1091  Percent of adults aged 18 years and older who ...              NaN   \n",
              "\n",
              "     data_value_type        ...         \\\n",
              "1067           Value        ...          \n",
              "1068           Value        ...          \n",
              "1085           Value        ...          \n",
              "1086           Value        ...          \n",
              "1091           Value        ...          \n",
              "\n",
              "                                 geolocation  classid topicid questionid  \\\n",
              "1067  (44.6613195430005, -84.71439026999968)      OWS    OWS1       Q036   \n",
              "1068  (44.6613195430005, -84.71439026999968)      OWS    OWS1       Q036   \n",
              "1085  (44.6613195430005, -84.71439026999968)      OWS    OWS1       Q036   \n",
              "1086  (44.6613195430005, -84.71439026999968)      OWS    OWS1       Q036   \n",
              "1091  (44.6613195430005, -84.71439026999968)      OWS    OWS1       Q036   \n",
              "\n",
              "      datavaluetypeid  locationid  stratificationcategory1 stratification1  \\\n",
              "1067            VALUE          26                   Gender            Male   \n",
              "1068            VALUE          26                   Gender          Female   \n",
              "1085            VALUE          26                   Gender            Male   \n",
              "1086            VALUE          26                   Gender          Female   \n",
              "1091            VALUE          26                   Gender            Male   \n",
              "\n",
              "     stratificationcategoryid1 stratificationid1  \n",
              "1067                       GEN              MALE  \n",
              "1068                       GEN            FEMALE  \n",
              "1085                       GEN              MALE  \n",
              "1086                       GEN            FEMALE  \n",
              "1091                       GEN              MALE  \n",
              "\n",
              "[5 rows x 33 columns]"
            ]
          },
          "metadata": {
            "tags": []
          },
          "execution_count": 44
        }
      ]
    },
    {
      "cell_type": "markdown",
      "metadata": {
        "id": "2t2tPM2PBcSJ",
        "colab_type": "text"
      },
      "source": [
        "After the Michigan State obesity dataset was created, our team decided to conduct analysis on that and compare it to the initial national dataset to see how Michigan ranks among other states. This is useful since we can better understand how this obesity in the state affects life expectancy. "
      ]
    },
    {
      "cell_type": "code",
      "metadata": {
        "id": "lGarZ5sDBy5l",
        "colab_type": "code",
        "colab": {}
      },
      "source": [
        "#separate out national so that we can calculate the national obesity rate\n",
        "brfss2n=brfss2[(brfss2['locationdesc']=='National')]"
      ],
      "execution_count": 0,
      "outputs": []
    },
    {
      "cell_type": "code",
      "metadata": {
        "id": "q9I7SSUpB7lv",
        "colab_type": "code",
        "outputId": "46054057-62ef-45a7-c997-60a9ff8bd5a0",
        "colab": {
          "base_uri": "https://localhost:8080/",
          "height": 34
        }
      },
      "source": [
        "#calculate Michigan State obesity rate\n",
        "mi=sum(brfssmi['data_value'])/len(brfssmi)\n",
        "print(\"Percentage of obesity in Michigan is:\",mi,\"%.\")"
      ],
      "execution_count": 0,
      "outputs": [
        {
          "output_type": "stream",
          "text": [
            "Percentage of obesity in Michigan is: 31.375 %.\n"
          ],
          "name": "stdout"
        }
      ]
    },
    {
      "cell_type": "code",
      "metadata": {
        "id": "43suvnPmCft-",
        "colab_type": "code",
        "outputId": "48825bca-eb32-4c33-a7ae-4d4216e144f7",
        "colab": {
          "base_uri": "https://localhost:8080/",
          "height": 34
        }
      },
      "source": [
        "#group data by state and take the mean of men and women rates for each state\n",
        "\n",
        "sorted_brfss = brfss2.sort_values(['locationdesc'], ascending = [True])\n",
        "sorted_brfss=sorted_brfss[['locationabbr','locationdesc','data_value','gender']]\n",
        "sorted_brfss = sorted_brfss.groupby('locationdesc', as_index=False).mean()\n",
        "\n",
        "#calculate the average (over men and women) obesity rate for the country\n",
        "\n",
        "natmeanobesity=sum(brfss2n['data_value'])/len(brfss2n)\n",
        "print(\"Percentage of obesity in the US is:\",natmeanobesity,\"%.\")"
      ],
      "execution_count": 0,
      "outputs": [
        {
          "output_type": "stream",
          "text": [
            "Percentage of obesity in the US is: 28.45833333333334 %.\n"
          ],
          "name": "stdout"
        }
      ]
    },
    {
      "cell_type": "code",
      "metadata": {
        "id": "XacsPHVuEU4O",
        "colab_type": "code",
        "outputId": "dc30ca49-03eb-4dea-8629-88b9b7cbd63c",
        "colab": {
          "base_uri": "https://localhost:8080/",
          "height": 524
        }
      },
      "source": [
        "plt.rc('font', family='serif')\n",
        "plt.rcParams.update({'font.size': 14})\n",
        "\n",
        "brfssmi = brfssmi.sort_values(['data_value'], ascending = [True])\n",
        "\n",
        "plt.figure(figsize = (10,16))\n",
        "\n",
        "plt.subplot(2,1,1)\n",
        "ax=sns.barplot(y=brfssmi.tail(10).locationdesc,x=brfssmi.tail(10).data_value,palette=\"Blues_d\")\n",
        "ax.set_ylabel('Michigan State')\n",
        "ax.set_xlabel('Obesity Rate (%)')\n",
        "ax.set_title('MIchigan compared to National Obesity rate')\n",
        "plt.plot([natmeanobesity,natmeanobesity],[-1,10], '--',color = 'r')\n"
      ],
      "execution_count": 0,
      "outputs": [
        {
          "output_type": "stream",
          "text": [
            "/usr/local/lib/python3.6/dist-packages/seaborn/categorical.py:1428: FutureWarning: remove_na is deprecated and is a private function. Do not use.\n",
            "  stat_data = remove_na(group_data)\n"
          ],
          "name": "stderr"
        },
        {
          "output_type": "execute_result",
          "data": {
            "text/plain": [
              "[<matplotlib.lines.Line2D at 0x7f2ce75035f8>]"
            ]
          },
          "metadata": {
            "tags": []
          },
          "execution_count": 48
        },
        {
          "output_type": "display_data",
          "data": {
            "image/png": "[encoded data removed]",
            "text/plain": [
              "<matplotlib.figure.Figure at 0x7f2ce736abe0>"
            ]
          },
          "metadata": {
            "tags": []
          }
        }
      ]
    },
    {
      "cell_type": "markdown",
      "metadata": {
        "id": "xdvXv11nFRy1",
        "colab_type": "text"
      },
      "source": [
        "From the above plot, we can see that the Michigan state obesity rate is higher than the national obesity rate."
      ]
    },
    {
      "cell_type": "markdown",
      "metadata": {
        "id": "Fv8c8XtjFeDY",
        "colab_type": "text"
      },
      "source": [
        "How does Michigan compare to other top obese states?"
      ]
    },
    {
      "cell_type": "code",
      "metadata": {
        "id": "gQ5-o_4ZFi7x",
        "colab_type": "code",
        "outputId": "51d708bf-a72c-4872-8b07-e0a4b5fde2db",
        "colab": {
          "base_uri": "https://localhost:8080/",
          "height": 998
        }
      },
      "source": [
        "#Let's plot a bar graph of the most and least obese states in the US\n",
        "#Mark the national average in red\n",
        "\n",
        "#For those that have LaTex\n",
        "#plt.rc('text', usetex=True)\n",
        "\n",
        "plt.rc('font', family='serif')\n",
        "plt.rcParams.update({'font.size': 14})\n",
        "\n",
        "sorted_brfss = sorted_brfss.sort_values(['data_value'], ascending = [True])\n",
        "\n",
        "plt.figure(figsize = (10,16))\n",
        "\n",
        "plt.subplot(2,1,1)\n",
        "ax=sns.barplot(y=sorted_brfss.tail(10).locationdesc,x=sorted_brfss.tail(10).data_value,palette=\"Blues_d\")\n",
        "ax.set_ylabel('US State')\n",
        "ax.set_xlabel('Obesity Rate (%)')\n",
        "ax.set_title('10 Most Obese States in 2014')\n",
        "plt.plot([natmeanobesity,natmeanobesity],[-1,10], '--',color = 'r')\n",
        "\n",
        "plt.subplot(2,1,2)\n",
        "ax=sns.barplot(y=sorted_brfss.head(10).locationdesc,x=sorted_brfss.head(10).data_value,palette=\"Blues_d\")\n",
        "ax.set_ylabel('US State')\n",
        "ax.set_xlabel('Obesity Rate (%)')\n",
        "ax.set_title('10 Least Obese States in 2014')\n",
        "\n",
        "plt.plot([natmeanobesity,natmeanobesity],[-1,10], '--',color = 'r')"
      ],
      "execution_count": 0,
      "outputs": [
        {
          "output_type": "stream",
          "text": [
            "/usr/local/lib/python3.6/dist-packages/seaborn/categorical.py:1428: FutureWarning: remove_na is deprecated and is a private function. Do not use.\n",
            "  stat_data = remove_na(group_data)\n"
          ],
          "name": "stderr"
        },
        {
          "output_type": "execute_result",
          "data": {
            "text/plain": [
              "[<matplotlib.lines.Line2D at 0x7f2ce71ba278>]"
            ]
          },
          "metadata": {
            "tags": []
          },
          "execution_count": 49
        },
        {
          "output_type": "display_data",
          "data": {
            "image/png": "[encoded data removed]",
            "text/plain": [
              "<matplotlib.figure.Figure at 0x7f2ce72b1898>"
            ]
          },
          "metadata": {
            "tags": []
          }
        }
      ]
    },
    {
      "cell_type": "markdown",
      "metadata": {
        "id": "xDSQq-WMF2Be",
        "colab_type": "text"
      },
      "source": [
        "The above plots show the top 10 most and least obese states compared to the national obesity average. "
      ]
    },
    {
      "cell_type": "code",
      "metadata": {
        "id": "YgAbHvrTF9y9",
        "colab_type": "code",
        "outputId": "77862eef-d7ca-482e-bb09-005a5b051c05",
        "colab": {
          "base_uri": "https://localhost:8080/",
          "height": 524
        }
      },
      "source": [
        "#Let's plot a bar graph of the most obese states in the US\n",
        "#Mark the national average in red\n",
        "\n",
        "#For those that have LaTex\n",
        "#plt.rc('text', usetex=True)\n",
        "\n",
        "plt.rc('font', family='serif')\n",
        "plt.rcParams.update({'font.size': 14})\n",
        "\n",
        "sorted_brfss = sorted_brfss.sort_values(['data_value'], ascending = [True])\n",
        "\n",
        "plt.figure(figsize = (10,16))\n",
        "\n",
        "plt.subplot(2,1,1)\n",
        "ax=sns.barplot(y=sorted_brfss.tail(10).locationdesc,x=sorted_brfss.tail(10).data_value,palette=\"Blues_d\")\n",
        "ax.set_ylabel('US State')\n",
        "ax.set_xlabel('Obesity Rate (%)')\n",
        "ax.set_title('10 Most Obese States compared to Michigan State Obesity rate')\n",
        "plt.plot([mi,mi],[-1,10], '--',color = 'r')\n",
        "\n"
      ],
      "execution_count": 0,
      "outputs": [
        {
          "output_type": "stream",
          "text": [
            "/usr/local/lib/python3.6/dist-packages/seaborn/categorical.py:1428: FutureWarning: remove_na is deprecated and is a private function. Do not use.\n",
            "  stat_data = remove_na(group_data)\n"
          ],
          "name": "stderr"
        },
        {
          "output_type": "execute_result",
          "data": {
            "text/plain": [
              "[<matplotlib.lines.Line2D at 0x7f2ce74c1e48>]"
            ]
          },
          "metadata": {
            "tags": []
          },
          "execution_count": 50
        },
        {
          "output_type": "display_data",
          "data": {
            "image/png": "[encoded data removed]",
            "text/plain": [
              "<matplotlib.figure.Figure at 0x7f2ce712eeb8>"
            ]
          },
          "metadata": {
            "tags": []
          }
        }
      ]
    },
    {
      "cell_type": "markdown",
      "metadata": {
        "id": "ZIe0osO4GLMf",
        "colab_type": "text"
      },
      "source": [
        "As you can see from the above plot of the top 10 obese states, the state of Michigan's obesity rate is very close to some of those State's obesity rate."
      ]
    },
    {
      "cell_type": "markdown",
      "metadata": {
        "id": "dDUO_VaAGkn1",
        "colab_type": "text"
      },
      "source": [
        "Do high percentage obese states show variation in life expectancy compared to the national life expectancy?"
      ]
    },
    {
      "cell_type": "markdown",
      "metadata": {
        "id": "T7XjszqBG1J-",
        "colab_type": "text"
      },
      "source": [
        "From online sources, the state life expectancy for the following top 10 obese states is as follows:\n",
        "\n",
        "\n",
        "*   Indiana: 77.6 years\n",
        "*   Virgin Islands: 79.2 years\n",
        "*   Tennessee: 76.3 years\n",
        "*   Kentucky: 76.0 years\n",
        "*   Oklahoma: 75.9 years\n",
        "*   Alabama: 75.4 years\n",
        "*   Arkansas: 76.0 years\n",
        "*   Louisiana: 75.7 years\n",
        "*   West Virginia: 75.4 years\n",
        "*   Mississippi: 75 years\n",
        "\n",
        "\n"
      ]
    },
    {
      "cell_type": "markdown",
      "metadata": {
        "id": "nfpCXzigIOg2",
        "colab_type": "text"
      },
      "source": [
        "Compared to the US life expectancy of 78.7 years, 9 of the 10 top obese states showed lower life expectancy than the national average. This shows that obesity plays an inversely proportional role with respect to life expectancy and is an indication to why the life expectancy in Detroit is the way it is. \n",
        "For Detroit's analyis, since it is a part of Michigan it follows the trend of having a higher than national average obesity as proven in the figure above. This leads to a lower expected life expectancy for the state of Michigan and thus Detroit is under the same effect. The reason why Detroit also shows an added lower life expectancy is due to the other factor of high concentration of medically underserved areas within the city limits. Both those factors play a negative effect on life expectancy for the citizens of Detroit city."
      ]
    },
    {
      "cell_type": "markdown",
      "metadata": {
        "id": "fUJaD-dZJMEM",
        "colab_type": "text"
      },
      "source": [
        "**Conclusion**"
      ]
    },
    {
      "cell_type": "markdown",
      "metadata": {
        "id": "Y-ZNXaQDAGMA",
        "colab_type": "text"
      },
      "source": [
        "Our team wanted to explore the life expectancy in the city of Detroit and why it was lower than the national average. We decided to better understand 3 factors pertinent to Detroit that might explain our topic. Our 3 factors were hospital locations, medically underseved areas and obesity. It has been proven that lifestyle choice(good diet) and access to healthcare have greatly impacted and increased human life expectancy throughout history. That's why our team believes in order to get the most accurate analysis those factors were the most important. \n",
        "The 1st factor, which was hospital locations within Detroit, our analysis showed that hospital location had no effect on life expectancy becuase whether or not people lived near the hospital they still showed the same low life expectancy. This makes sense since hospitals are usually used to treat emergency situations and operations. Even though hospitals help extend and better human life expectancy, they don't play a crucial role in raising the expectancy for all citizens of Detroit since it only benefits the people who are need of hospital assistance. Our 2nd factor was the amount of medically underserved areas within Detroit, through our analysis we found that Detroit has an abundance of medically underserved areas which is set by the index of qualification. The high amount of medically underserved areas plays an adverse affect on life expectancy and that can be attributed to people not having access to primary care and care for senior citizens. The last factor was the obesity rate in Michigan which is representative of Detroit as well. We were able to find that Michigan has an above national average obesity rate and when compared to the life expectancy of the most obese states they all showed the same trend of low life expectancy. This goes to show that the obesity rate plays a negative effect on life expectancy. \n",
        "\n",
        "So overall medically underserved areas and obesity were the only factors that played a negative role on the life expectancy in Detroit and are big factors on why life expectancy is low. Hospitals had no effect and thus is not a good indicator. In order to boost the life expectancy to come close to the national average, Detroit has to explore ways to lower the amount of medically underserved areas and educate the citizens on their diet so that the obesity rate decreases. "
      ]
    }
  ]
}